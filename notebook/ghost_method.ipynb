{
 "cells": [
  {
   "cell_type": "markdown",
   "metadata": {},
   "source": [
    "# Ghost Method\n",
    "動的なメソッド呼び出し"
   ]
  },
  {
   "cell_type": "markdown",
   "metadata": {},
   "source": [
    "`__getattr__` (rubyでの`method_missing`)\n",
    "\n",
    "定義されていないメソッドが呼ばれた時,代わりに呼び出される.name引数にはその時のメソッド名が入る."
   ]
  },
  {
   "cell_type": "code",
   "execution_count": 1,
   "metadata": {},
   "outputs": [
    {
     "data": {
      "text/plain": [
       "'Hoge'"
      ]
     },
     "execution_count": 1,
     "metadata": {},
     "output_type": "execute_result"
    }
   ],
   "source": [
    "class DynamicProxy(object):\n",
    "    def __init__(self, value):\n",
    "        self._value = value\n",
    "\n",
    "    def __getattr__(self, name):\n",
    "        return getattr(self._value, name)\n",
    "\n",
    "proc = DynamicProxy('hoge')\n",
    "proc.title()"
   ]
  },
  {
   "cell_type": "markdown",
   "metadata": {},
   "source": [
    "## 処理手順\n",
    "\n",
    "1. `DynamicProcy#title`は存在しないメソッドなので,`DynamicProxy#__getattr__`が呼び出される.\n",
    "2. `getattr`メソッドで対象オブジェクト(ここでは'hoge')のname(title)メソッドが呼ばれる.\n",
    "3. `'hoge'.title()`が処理され,結果の'Hoge'が返る."
   ]
  }
 ],
 "metadata": {
  "kernelspec": {
   "display_name": "Python 3",
   "language": "python",
   "name": "python3"
  },
  "language_info": {
   "codemirror_mode": {
    "name": "ipython",
    "version": 3
   },
   "file_extension": ".py",
   "mimetype": "text/x-python",
   "name": "python",
   "nbconvert_exporter": "python",
   "pygments_lexer": "ipython3",
   "version": "3.6.3"
  }
 },
 "nbformat": 4,
 "nbformat_minor": 2
}
